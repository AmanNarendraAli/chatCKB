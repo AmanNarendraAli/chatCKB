{
 "cells": [
  {
   "cell_type": "code",
   "execution_count": 58,
   "metadata": {},
   "outputs": [],
   "source": [
    "import PyPDF2\n",
    "import openai\n",
    "import pdfminer\n",
    "from langchain.embeddings.openai import OpenAIEmbeddings\n",
    "from langchain.text_splitter import CharacterTextSplitter\n",
    "from langchain.vectorstores import ElasticVectorSearch,Pinecone,Weaviate,FAISS\n",
    "from pdfminer.high_level import extract_text\n",
    "\n"
   ]
  },
  {
   "cell_type": "code",
   "execution_count": 59,
   "metadata": {},
   "outputs": [],
   "source": [
    "import os\n",
    "openai.api_key = os.environ[\"OPENAI_API_KEY\"]"
   ]
  },
  {
   "cell_type": "code",
   "execution_count": 60,
   "metadata": {},
   "outputs": [],
   "source": [
    "def read_pdf(pdf_name):\n",
    "    text = \"\"\n",
    "    pdfFileObj = open(pdf_name,'rb')\n",
    "    pdf_reader=PyPDF2.PdfReader(pdfFileObj)\n",
    "    for page in pdf_reader.pages:\n",
    "        text += page.extract_text()\n",
    "    return text"
   ]
  },
  {
   "cell_type": "code",
   "execution_count": 61,
   "metadata": {},
   "outputs": [],
   "source": [
    "def get_text_chunks(raw_text):\n",
    "    splitter = CharacterTextSplitter(\n",
    "        separator = \"\\n\",\n",
    "        chunk_size = 1000,\n",
    "        chunk_overlap = 100,\n",
    "        length_function = len\n",
    "    )\n",
    "    chunks = splitter.split(raw_text)\n",
    "    return chunks"
   ]
  },
  {
   "cell_type": "code",
   "execution_count": 62,
   "metadata": {},
   "outputs": [],
   "source": [
    "def file_getter():\n",
    "    # compile all the PDF filenames:\n",
    "    pdfFiles = []\n",
    "\n",
    "# a nice stroll through the folder, innit:\n",
    "    for root, dirs, filenames in os.walk(os.getcwd()):\n",
    "        for filename in filenames:\n",
    "            if filename.lower().endswith('.pdf') and filename!=\"allminutes.pdf\":\n",
    "                pdfFiles.append(os.path.join(root, filename))\n",
    "\n",
    "# sort the list; initiate writer obj:\n",
    "    pdfFiles.sort(key = str.lower)\n",
    "    pdfWriter = PyPDF2.PdfWriter()\n",
    "\n",
    "# flashy display:\n",
    "    print('{}\\n'.format(len(pdfFiles)))\n",
    "    for i in pdfFiles:\n",
    "        print(i)\n",
    "\n",
    "# Loop through all the PDF files.\n",
    "    for filename in pdfFiles:\n",
    "        pdfFileObj = open(filename, 'rb')\n",
    "        pdfReader = PyPDF2.PdfReader(pdfFileObj)\n",
    "    # Loop through all the pages (except the first) and add them.\n",
    "        for pageNum in range(0, len(pdfReader.pages)):\n",
    "            pageObj = pdfReader.pages[pageNum]\n",
    "            pdfWriter.add_page(pageObj)\n",
    "\n",
    "# Save the resulting PDF to a file.\n",
    "    pdfOutput = open('allminutes.pdf', 'wb')\n",
    "    pdfWriter.write(pdfOutput)\n",
    "    pdfOutput.close()"
   ]
  },
  {
   "cell_type": "code",
   "execution_count": 63,
   "metadata": {},
   "outputs": [
    {
     "name": "stdout",
     "output_type": "stream",
     "text": [
      "1\n",
      "\n",
      "/Users/vir/Documents/GitHub/chatCKB/Uploaded resume.pdf\n",
      "N/A\n",
      "N/AVir Khanna\n",
      "Davis, CA, US vkhanna@ucdavis.edu +1 (650) 515 6435 in/virkhanna\n",
      "SUMMARY\n",
      "Accomplished Software Engineer with a proven ability in Machine Learning, Natural Language Processing, and efficient data management using \n",
      "Node.js and Python. Track record includes developing a sophisticated AI Chatbot at CK Birla Healthcare and a strategic price comparison tool at \n",
      "Zomato, both contributing to significant operational improvements. Renowned for enhancing cross-functional collaborations and driving project \n",
      "success. Eager to apply these skills to tackle complex problems and drive innovation in a forward-thinking environment.\n",
      "EXPERIENCE\n",
      "Machine Learning Engineer\n",
      "• Orchestrated the design and deployment of an AI Chatbot using advanced Natural Language Processing (NLP) and Deep Learning models, \n",
      "significantly improving access to company information and reducing data retrieval time. \n",
      "• Leveraged Reinforcement Learning for continuous AI Chatbot optimization, achieving a 30% increase in query handling efficiency. \n",
      "• Championed Machine Learning Ops (MLOps) practices, seamlessly integrating and scaling AI models across the organization's tech stack. \n",
      "• Conducted AI workshops and led a cross-functional team, fostering a culture of tech-savviness and knowledge sharing within the company.\n",
      "Software Developer intern\n",
      "• Developed an innovative price comparison tool that aggregates menu prices across major Indian food delivery platforms, enhancing Zomato's \n",
      "market competitiveness. \n",
      "• Employed advanced web scraping techniques for large-scale data extraction, enhancing the tool's accuracy and reliability. \n",
      "• Optimized tool performance with efficient data structures and algorithms, significantly improving data processing speed and accuracy. \n",
      "• Seamlessly integrated this tool into Zomato's existing system architecture, increasing the strategic efficiency of the Menu and Catalog Team\n",
      "Software Developer Intern\n",
      "• Spearheaded the successful migration of user data to the 'My Orders' page's ACME tab, enhancing user experience and increasing customer data \n",
      "accessibility. \n",
      "• Employed Node.js and Python, along with various libraries, to streamline data transfer processes, resulting in improved performance and \n",
      "operational efficiency. \n",
      "• Crafted sophisticated data pipelines and APIs, fostering secure, accurate, and timely data flow between different components of the system.\n",
      "• Collaborated with cross-functional teams, ensuring the seamless integration of the new data migration solution with existing MakeMyTrip systems, \n",
      "bolstering the company's overall operational workflow.\n",
      "Founder and Developer\n",
      "• Started a free online peer tutoring service where high school seniors could teach middle school students on challenging topics before their exams. \n",
      "• Built our website using WordPress, HTML, CSS and PHP to display content, perform user registration and authentication \n",
      "• Integrated cloud-based scheduling system on Calendly to conduct virtual classes on Zoom and Google Meets. \n",
      "• Tutored 100+ students in the first month of operations with a team of 20+ teachers.\n",
      "Producer & Performer\n",
      "• I also do Stand-up Comedy! \n",
      "• Watch my bits - youtube.com/@vir_khanna\n",
      "EDUCATION\n",
      "Computer Science\n",
      "University of California•US, California, Davis•2025•3.8\n",
      "COURSEWORK\n",
      "Algorithms\n",
      "Data Structures\n",
      "Operating Systems\n",
      "Theory Of Computation\n",
      "Discrete Mathematics\n",
      "Object-Oriented ProgrammingCK Birla Group Gurugram, Haryana, India , July 2023 - September 2023\n",
      "Zomato July 2022 - August 2022\n",
      "MakeMyTrip June 2019 - August 2019\n",
      "EdSync New Delhi, Delhi, India , April 2020 - September 2021\n",
      "Stand-up Comedy Club @ UCDavis (StUCC) Davis, California, USA , January 2023 - Present\n"
     ]
    }
   ],
   "source": [
    "pdf_docs = file_getter()\n",
    "raw_text = read_pdf(\"allminutes.pdf\")\n",
    "print(raw_text)"
   ]
  },
  {
   "cell_type": "code",
   "execution_count": 64,
   "metadata": {},
   "outputs": [],
   "source": [
    "def convert_pdf_to_txt(path):\n",
    "    try:\n",
    "        text = extract_text(path)\n",
    "        return text\n",
    "    except Exception as e:\n",
    "        print(f\"An error occurred: {e}\")\n",
    "        return None\n",
    "\n",
    "if __name__ == '__main__':\n",
    "    path_to_pdf = 'allminutes.pdf' # path to the pdf file\n",
    "    path_to_txt = 'converted.txt' # path to the output txt file\n",
    "\n",
    "    text = convert_pdf_to_txt(path_to_pdf)\n",
    "\n",
    "    if text is not None:\n",
    "        try:\n",
    "            with open(path_to_txt, 'w') as f:\n",
    "                f.write(text)\n",
    "        except Exception as e:\n",
    "            print(f\"An error occurred while writing to the text file: {e}\")\n"
   ]
  }
 ],
 "metadata": {
  "kernelspec": {
   "display_name": "Python 3 (ipykernel)",
   "language": "python",
   "name": "python3"
  },
  "language_info": {
   "codemirror_mode": {
    "name": "ipython",
    "version": 3
   },
   "file_extension": ".py",
   "mimetype": "text/x-python",
   "name": "python",
   "nbconvert_exporter": "python",
   "pygments_lexer": "ipython3",
   "version": "3.9.7"
  }
 },
 "nbformat": 4,
 "nbformat_minor": 2
}
